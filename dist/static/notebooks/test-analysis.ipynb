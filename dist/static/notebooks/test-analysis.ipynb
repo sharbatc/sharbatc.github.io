{
 "cells": [
  {
   "cell_type": "markdown",
   "id": "b90db2f5",
   "metadata": {},
   "source": [
    "# Test Analysis Notebook\n",
    "\n",
    "This is a simple test notebook to demonstrate the notebook viewing functionality.\n",
    "\n",
    "**Author:** Sharbatanu Chatterjee  \n",
    "**Date:** October 2024  \n",
    "**Category:** Tutorial  "
   ]
  },
  {
   "cell_type": "markdown",
   "id": "960f133b",
   "metadata": {},
   "source": [
    "## Introduction\n",
    "\n",
    "This notebook contains some basic examples of data analysis and visualization using Python. It serves as a template for more complex analyses."
   ]
  },
  {
   "cell_type": "code",
   "execution_count": null,
   "id": "0f0075ad",
   "metadata": {},
   "outputs": [],
   "source": [
    "# Import required libraries\n",
    "import numpy as np\n",
    "import pandas as pd\n",
    "import matplotlib.pyplot as plt\n",
    "import seaborn as sns\n",
    "\n",
    "print(\"Libraries imported successfully!\")"
   ]
  },
  {
   "cell_type": "markdown",
   "id": "ba5b492a",
   "metadata": {},
   "source": [
    "## Data Generation\n",
    "\n",
    "Let's create some sample data for analysis:"
   ]
  },
  {
   "cell_type": "code",
   "execution_count": null,
   "id": "60beba3b",
   "metadata": {},
   "outputs": [],
   "source": [
    "# Generate sample data\n",
    "np.random.seed(42)\n",
    "n_samples = 100\n",
    "\n",
    "data = {\n",
    "    'x': np.random.normal(0, 1, n_samples),\n",
    "    'y': np.random.normal(0, 1, n_samples),\n",
    "    'category': np.random.choice(['A', 'B', 'C'], n_samples)\n",
    "}\n",
    "\n",
    "df = pd.DataFrame(data)\n",
    "df['z'] = df['x'] * 0.5 + df['y'] * 0.3 + np.random.normal(0, 0.2, n_samples)\n",
    "\n",
    "print(f\"Generated dataset with {len(df)} samples\")\n",
    "print(df.head())"
   ]
  },
  {
   "cell_type": "markdown",
   "id": "94f7788d",
   "metadata": {},
   "source": [
    "## Data Visualization\n",
    "\n",
    "Now let's create some visualizations:"
   ]
  },
  {
   "cell_type": "code",
   "execution_count": null,
   "id": "800d8dd6",
   "metadata": {},
   "outputs": [],
   "source": [
    "# Create a scatter plot\n",
    "plt.figure(figsize=(10, 6))\n",
    "\n",
    "plt.subplot(1, 2, 1)\n",
    "sns.scatterplot(data=df, x='x', y='y', hue='category', alpha=0.7)\n",
    "plt.title('Scatter Plot by Category')\n",
    "plt.grid(True, alpha=0.3)\n",
    "\n",
    "plt.subplot(1, 2, 2)\n",
    "sns.histplot(data=df, x='z', bins=20, alpha=0.7)\n",
    "plt.title('Distribution of Z values')\n",
    "plt.grid(True, alpha=0.3)\n",
    "\n",
    "plt.tight_layout()\n",
    "plt.show()"
   ]
  },
  {
   "cell_type": "markdown",
   "id": "bd1fe829",
   "metadata": {},
   "source": [
    "## Statistical Analysis\n",
    "\n",
    "Let's perform some basic statistical analysis:"
   ]
  },
  {
   "cell_type": "code",
   "execution_count": null,
   "id": "ad4e90ee",
   "metadata": {},
   "outputs": [],
   "source": [
    "# Calculate correlations\n",
    "correlations = df[['x', 'y', 'z']].corr()\n",
    "print(\"Correlation matrix:\")\n",
    "print(correlations)\n",
    "\n",
    "# Group statistics by category\n",
    "print(\"\\nStatistics by category:\")\n",
    "summary_stats = df.groupby('category').agg({\n",
    "    'x': ['mean', 'std'],\n",
    "    'y': ['mean', 'std'],\n",
    "    'z': ['mean', 'std']\n",
    "}).round(3)\n",
    "\n",
    "print(summary_stats)"
   ]
  },
  {
   "cell_type": "markdown",
   "id": "56e69777",
   "metadata": {},
   "source": [
    "## Conclusion\n",
    "\n",
    "This notebook demonstrated:\n",
    "\n",
    "1. **Data Generation**: Creating synthetic datasets for analysis\n",
    "2. **Visualization**: Using matplotlib and seaborn for plots\n",
    "3. **Statistical Analysis**: Computing correlations and group statistics\n",
    "\n",
    "This serves as a template that can be extended for more complex analyses in neuroscience research."
   ]
  }
 ],
 "metadata": {
  "language_info": {
   "name": "python"
  }
 },
 "nbformat": 4,
 "nbformat_minor": 5
}
